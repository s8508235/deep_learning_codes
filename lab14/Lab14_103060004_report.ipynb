{
 "cells": [
  {
   "cell_type": "markdown",
   "metadata": {},
   "source": [
    "    AutoEncoder:\n",
    "        首先我把data分成了train、testing和valid三個部分，因為每一張image的size都不一樣，所以我把它們都resize成128*128，這樣才能夠 \n",
    "        training。\n",
    "        \n",
    "        在training的部分，可以發現loss都有有效的下降，vaild雖然有起伏，但還是有在下降。\n",
    "        \n",
    "        "
   ]
  },
  {
   "cell_type": "markdown",
   "metadata": {},
   "source": [
    "    Wgan:\n",
    "    需要修改WGAN到Imporved WGAN的架構，我使用了以下的幾種方法\n",
    "        1. 把batch_normalization全拿掉\n",
    "        2. 加gradient penalty\n",
    "        3. Optimizer換成AdamOptimizer\n",
    "        \n",
    "    從結果來看，在100個epoch後幾乎都看得清楚數字，只有少數數字略微模糊。\n",
    "    "
   ]
  },
  {
   "cell_type": "code",
   "execution_count": null,
   "metadata": {
    "collapsed": true
   },
   "outputs": [],
   "source": []
  }
 ],
 "metadata": {
  "kernelspec": {
   "display_name": "Python 3",
   "language": "python",
   "name": "python3"
  },
  "language_info": {
   "codemirror_mode": {
    "name": "ipython",
    "version": 3
   },
   "file_extension": ".py",
   "mimetype": "text/x-python",
   "name": "python",
   "nbconvert_exporter": "python",
   "pygments_lexer": "ipython3",
   "version": "3.6.1"
  }
 },
 "nbformat": 4,
 "nbformat_minor": 2
}
