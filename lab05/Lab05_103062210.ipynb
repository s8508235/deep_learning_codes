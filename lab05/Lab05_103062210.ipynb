{
 "cells": [
  {
   "cell_type": "markdown",
   "metadata": {},
   "source": [
    " Report\n",
    "\n",
    "1.Read data in and split 30% to validation data\n",
    "2.RandomForestClassifier,RandomForestRegressor, Ridge\n",
    "3.It will converge, so it won't overfit\n",
    "4.Find 3 important feature by Random Forest Tree\n",
    "5.Split data, train good model and then predict the X_test "
   ]
  },
  {
   "cell_type": "code",
   "execution_count": 1,
   "metadata": {
    "collapsed": true
   },
   "outputs": [],
   "source": [
    "import pandas as pd\n",
    "import numpy as np"
   ]
  },
  {
   "cell_type": "code",
   "execution_count": 2,
   "metadata": {
    "collapsed": true
   },
   "outputs": [],
   "source": [
    "X_train = pd.read_csv('./data/nba/X_train.csv')\n",
    "y_train = pd.read_csv('./data/nba/y_train.csv')\n",
    "origin_X_train = X_train\n",
    "origin_y_train = y_train\n",
    "X_test = pd.read_csv('./data/nba/X_test.csv')"
   ]
  },
  {
   "cell_type": "code",
   "execution_count": 3,
   "metadata": {
    "collapsed": true
   },
   "outputs": [],
   "source": [
    "def pd2np(df):\n",
    "    return df.as_matrix()"
   ]
  },
  {
   "cell_type": "code",
   "execution_count": 4,
   "metadata": {
    "collapsed": true
   },
   "outputs": [],
   "source": [
    "import matplotlib.pyplot as plt\n",
    "import seaborn as sns\n",
    "from sklearn.preprocessing import StandardScaler\n",
    "from sklearn.model_selection import train_test_split"
   ]
  },
  {
   "cell_type": "code",
   "execution_count": 5,
   "metadata": {
    "collapsed": true
   },
   "outputs": [],
   "source": [
    "X_train, X_valid, y_train, y_valid = train_test_split(X_train, y_train, test_size=0.3, random_state=0)"
   ]
  },
  {
   "cell_type": "code",
   "execution_count": 6,
   "metadata": {
    "collapsed": true
   },
   "outputs": [],
   "source": [
    "from sklearn.tree import DecisionTreeClassifier\n",
    "from sklearn.ensemble import RandomForestClassifier\n",
    "from sklearn.metrics import mean_squared_error\n",
    "from sklearn.metrics import accuracy_score"
   ]
  },
  {
   "cell_type": "code",
   "execution_count": 7,
   "metadata": {},
   "outputs": [
    {
     "name": "stderr",
     "output_type": "stream",
     "text": [
      "C:\\ProgramData\\Anaconda3\\lib\\site-packages\\ipykernel_launcher.py:5: DataConversionWarning: A column-vector y was passed when a 1d array was expected. Please change the shape of y to (n_samples,), for example using ravel().\n",
      "  \"\"\"\n"
     ]
    },
    {
     "name": "stdout",
     "output_type": "stream",
     "text": [
      "MSE train: 0.00, valid: 0.40\n",
      "Accuracy 0.600318066158\n"
     ]
    }
   ],
   "source": [
    "forest = RandomForestClassifier(criterion='entropy',\n",
    "                                n_estimators=200, \n",
    "                                random_state=1,\n",
    "                                n_jobs=2)\n",
    "forest.fit(X_train, y_train)\n",
    "y_train_pred = forest.predict(X_train)\n",
    "y_valid_pred = forest.predict(X_valid)\n",
    "# y_test_pred = forest.predict(X_test)\n",
    "print('MSE train: %.2f, valid: %.2f' %\n",
    "        (mean_squared_error(y_train, y_train_pred),\n",
    "         mean_squared_error(y_valid, y_valid_pred)\n",
    "         ))\n",
    "print('Accuracy',accuracy_score(y_valid,y_valid_pred))"
   ]
  },
  {
   "cell_type": "code",
   "execution_count": 8,
   "metadata": {
    "scrolled": true
   },
   "outputs": [
    {
     "name": "stdout",
     "output_type": "stream",
     "text": [
      " 1) GAME_CLOCK                     0.200453\n",
      " 2) SHOT_DIST                      0.200179\n",
      " 3) SHOT_CLOCK                     0.177025\n",
      " 4) CLOSE_DEF_DIST                 0.173898\n",
      " 5) TOUCH_TIME                     0.140622\n",
      " 6) PERIOD                         0.052434\n",
      " 7) DRIBBLES                       0.048234\n",
      " 8) PTS_TYPE                       0.007156\n"
     ]
    }
   ],
   "source": [
    "importances = forest.feature_importances_\n",
    "# get sort indices in descending order\n",
    "indices = np.argsort(importances)[::-1]\n",
    "\n",
    "for f in range(X_train.shape[1]):\n",
    "    print(\"%2d) %-*s %f\" % (f + 1, 30, \n",
    "                            X_train.columns.values[indices[f]], \n",
    "                            importances[indices[f]]))\n",
    "    \n",
    "select_feature = X_train.columns[indices[0:3]]"
   ]
  },
  {
   "cell_type": "code",
   "execution_count": 9,
   "metadata": {
    "collapsed": true
   },
   "outputs": [],
   "source": [
    "X_train_ = X_train[select_feature]\n",
    "X_train_, X_valid_, y_train_, y_valid_ = train_test_split(X_train_, y_train, test_size=0.3, random_state=0)"
   ]
  },
  {
   "cell_type": "code",
   "execution_count": 10,
   "metadata": {
    "scrolled": true
   },
   "outputs": [
    {
     "name": "stderr",
     "output_type": "stream",
     "text": [
      "C:\\ProgramData\\Anaconda3\\lib\\site-packages\\ipykernel_launcher.py:1: DataConversionWarning: A column-vector y was passed when a 1d array was expected. Please change the shape of y to (n_samples,), for example using ravel().\n",
      "  \"\"\"Entry point for launching an IPython kernel.\n"
     ]
    },
    {
     "name": "stdout",
     "output_type": "stream",
     "text": [
      "MSE train: 0.00, valid: 0.44\n"
     ]
    }
   ],
   "source": [
    "forest.fit(X_train_, y_train_)\n",
    "y_train_pred = forest.predict(X_train_)\n",
    "y_valid_pred = forest.predict(X_valid_)\n",
    "# y_test_pred = forest.predict(X_test)\n",
    "print('MSE train: %.2f, valid: %.2f' %\n",
    "        (mean_squared_error(y_train_, y_train_pred),\n",
    "         mean_squared_error(y_valid_, y_valid_pred)\n",
    "         ))"
   ]
  },
  {
   "cell_type": "code",
   "execution_count": 11,
   "metadata": {},
   "outputs": [
    {
     "data": {
      "text/plain": [
       "array([[-1.29304235, -0.41433087, -1.91688144, ...,  1.0927229 ,\n",
       "         1.6756015 ,  0.96583612],\n",
       "       [-1.29304235,  0.05850749, -0.29847934, ...,  0.24709654,\n",
       "        -0.59680061, -0.15329234],\n",
       "       [-0.41078515, -0.50600362, -0.15282315, ..., -1.20738079,\n",
       "        -0.59680061, -1.30852171],\n",
       "       ..., \n",
       "       [ 0.47147205,  0.07298213, -0.29847934, ..., -0.89168028,\n",
       "        -0.59680061, -1.38072355],\n",
       "       [-0.41078515,  1.01383398, -0.36321542, ..., -0.36175443,\n",
       "        -0.59680061, -0.73090702],\n",
       "       [ 2.23598645, -0.55425243, -0.91347214, ...,  0.90104759,\n",
       "        -0.59680061, -0.15329234]])"
      ]
     },
     "execution_count": 11,
     "metadata": {},
     "output_type": "execute_result"
    }
   ],
   "source": [
    "from sklearn.ensemble import RandomForestRegressor\n",
    "sc = StandardScaler()\n",
    "X_train_std = sc.fit_transform(X_train)\n",
    "sc.transform(X_valid)"
   ]
  },
  {
   "cell_type": "code",
   "execution_count": 12,
   "metadata": {
    "scrolled": true
   },
   "outputs": [
    {
     "name": "stderr",
     "output_type": "stream",
     "text": [
      "C:\\ProgramData\\Anaconda3\\lib\\site-packages\\ipykernel_launcher.py:3: DataConversionWarning: A column-vector y was passed when a 1d array was expected. Please change the shape of y to (n_samples,), for example using ravel().\n",
      "  This is separate from the ipykernel package so we can avoid doing imports until\n"
     ]
    },
    {
     "data": {
      "text/plain": [
       "RandomForestRegressor(bootstrap=True, criterion='mse', max_depth=None,\n",
       "           max_features='auto', max_leaf_nodes=None,\n",
       "           min_impurity_split=1e-07, min_samples_leaf=1,\n",
       "           min_samples_split=2, min_weight_fraction_leaf=0.0,\n",
       "           n_estimators=1000, n_jobs=-1, oob_score=False, random_state=1,\n",
       "           verbose=0, warm_start=False)"
      ]
     },
     "execution_count": 12,
     "metadata": {},
     "output_type": "execute_result"
    }
   ],
   "source": [
    "regr = RandomForestRegressor(\n",
    "    n_estimators=1000, criterion='mse', random_state=1, n_jobs=-1)\n",
    "regr.fit(X_train_std, y_train)"
   ]
  },
  {
   "cell_type": "code",
   "execution_count": 13,
   "metadata": {
    "scrolled": true
   },
   "outputs": [
    {
     "name": "stdout",
     "output_type": "stream",
     "text": [
      "MSE train: 0.03, test: 0.25\n",
      "Accuracy 0.499872773537\n"
     ]
    }
   ],
   "source": [
    "y_train_pred = regr.predict(X_train_std)\n",
    "y_valid_pred = regr.predict(X_valid)\n",
    "print('MSE train: %.2f, test: %.2f' %\n",
    "      (mean_squared_error(y_train, y_train_pred),\n",
    "       mean_squared_error(y_valid, y_valid_pred)))\n",
    "print('Accuracy',accuracy_score(y_valid,y_valid_pred.round()))"
   ]
  },
  {
   "cell_type": "code",
   "execution_count": 14,
   "metadata": {
    "scrolled": true
   },
   "outputs": [
    {
     "name": "stdout",
     "output_type": "stream",
     "text": [
      " 1) GAME_CLOCK                     0.212391\n",
      " 2) SHOT_DIST                      0.208255\n",
      " 3) SHOT_CLOCK                     0.176485\n",
      " 4) CLOSE_DEF_DIST                 0.162218\n",
      " 5) TOUCH_TIME                     0.138502\n",
      " 6) PERIOD                         0.053592\n",
      " 7) DRIBBLES                       0.045039\n",
      " 8) PTS_TYPE                       0.003516\n"
     ]
    }
   ],
   "source": [
    "importances = regr.feature_importances_\n",
    "# get sort indices in descending order\n",
    "indices = np.argsort(importances)[::-1]\n",
    "\n",
    "for f in range(X_train.shape[1]):\n",
    "    print(\"%2d) %-*s %f\" % (f + 1, 30, \n",
    "                            X_train.columns.values[indices[f]], \n",
    "                            importances[indices[f]]))"
   ]
  },
  {
   "cell_type": "code",
   "execution_count": 15,
   "metadata": {
    "collapsed": true
   },
   "outputs": [],
   "source": [
    "sc = StandardScaler()\n",
    "X_train_std_ = sc.fit_transform(X_train_)"
   ]
  },
  {
   "cell_type": "code",
   "execution_count": 16,
   "metadata": {},
   "outputs": [
    {
     "name": "stderr",
     "output_type": "stream",
     "text": [
      "C:\\ProgramData\\Anaconda3\\lib\\site-packages\\ipykernel_launcher.py:3: DataConversionWarning: A column-vector y was passed when a 1d array was expected. Please change the shape of y to (n_samples,), for example using ravel().\n",
      "  This is separate from the ipykernel package so we can avoid doing imports until\n"
     ]
    },
    {
     "data": {
      "text/plain": [
       "RandomForestRegressor(bootstrap=True, criterion='mse', max_depth=None,\n",
       "           max_features='auto', max_leaf_nodes=None,\n",
       "           min_impurity_split=1e-07, min_samples_leaf=1,\n",
       "           min_samples_split=2, min_weight_fraction_leaf=0.0,\n",
       "           n_estimators=1000, n_jobs=-1, oob_score=False, random_state=1,\n",
       "           verbose=0, warm_start=False)"
      ]
     },
     "execution_count": 16,
     "metadata": {},
     "output_type": "execute_result"
    }
   ],
   "source": [
    "regr = RandomForestRegressor(\n",
    "    n_estimators=1000, criterion='mse', random_state=1, n_jobs=-1)\n",
    "regr.fit(X_train_std_, y_train_.as_matrix())"
   ]
  },
  {
   "cell_type": "code",
   "execution_count": 17,
   "metadata": {},
   "outputs": [
    {
     "name": "stdout",
     "output_type": "stream",
     "text": [
      "MSE train: 0.04, test: 0.25\n",
      "Accuracy 0.541621228644\n"
     ]
    }
   ],
   "source": [
    "y_train_pred = regr.predict(X_train_std_)\n",
    "y_valid_pred = regr.predict(X_valid_)\n",
    "print('MSE train: %.2f, test: %.2f' %\n",
    "      (mean_squared_error(y_train_, y_train_pred),\n",
    "       mean_squared_error(y_valid_, y_valid_pred)))\n",
    "\n",
    "print('Accuracy',accuracy_score(y_valid_,y_valid_pred.round()))"
   ]
  },
  {
   "cell_type": "code",
   "execution_count": 18,
   "metadata": {
    "collapsed": true
   },
   "outputs": [],
   "source": [
    "def mse(model, X, y):\n",
    "    return mean_squared_error(y_train_, y_train_pred)"
   ]
  },
  {
   "cell_type": "code",
   "execution_count": 19,
   "metadata": {},
   "outputs": [
    {
     "name": "stdout",
     "output_type": "stream",
     "text": [
      "(52399, 1)\n",
      "\n",
      "[Alpha = 0.00]\n",
      "MSE train: 0.237138, test: 0.236741\n",
      "Accuracy 0.603944020356\n",
      "\n",
      "[Alpha = 1.00]\n",
      "MSE train: 0.237138, test: 0.236741\n",
      "Accuracy 0.603944020356\n",
      "\n",
      "[Alpha = 10.00]\n",
      "MSE train: 0.237138, test: 0.236741\n",
      "Accuracy 0.603944020356\n",
      "\n",
      "[Alpha = 100.00]\n",
      "MSE train: 0.237138, test: 0.236741\n",
      "Accuracy 0.604134860051\n",
      "\n",
      "[Alpha = 1000.00]\n",
      "MSE train: 0.237147, test: 0.236756\n",
      "Accuracy 0.604643765903\n"
     ]
    }
   ],
   "source": [
    "from sklearn.preprocessing import PolynomialFeatures\n",
    "from sklearn.linear_model import Ridge\n",
    "X_select = origin_X_train[select_feature]\n",
    "X_select = pd2np(X_select)\n",
    "sc = StandardScaler()\n",
    "X_std = sc.fit_transform(X_select)\n",
    "\n",
    "poly = PolynomialFeatures(degree=2)\n",
    "X_poly = poly.fit_transform(X_std)\n",
    "\n",
    "print(origin_y_train.shape)\n",
    "X_select_train , X_valid , y_select_train , y_valid = train_test_split(\n",
    "    X_poly , origin_y_train.as_matrix() , test_size = 0.3 , random_state = 0)\n",
    "\n",
    "\n",
    "for a in [0, 1, 10, 100, 1000]:\n",
    "    lr_rg = Ridge(alpha=a)\n",
    "    lr_rg.fit(X_select_train, y_select_train)\n",
    "    \n",
    "    y_train_pred = lr_rg.predict(X_select_train)\n",
    "    y_test_pred = lr_rg.predict(X_valid)\n",
    "\n",
    "    print('\\n[Alpha = %.2f]' % a)\n",
    "    y_train_pred.round()\n",
    "    print('MSE train: %f, test: %f' %\n",
    "        (mean_squared_error(y_select_train, y_train_pred),\n",
    "         mean_squared_error(y_valid, y_test_pred)))\n",
    "    print('Accuracy',accuracy_score(y_valid,y_test_pred.round()))\n",
    "\n",
    "lr_rg = Ridge(alpha=1000)\n",
    "lr_rg.fit(X_select_train, y_select_train)\n",
    "\n",
    "x_test = X_test[select_feature]\n",
    "x_test = pd2np(x_test)\n",
    "x_test_poly = poly.fit_transform(x_test)\n",
    "y_pred = lr_rg.predict(x_test_poly)\n",
    "for a in range(y_pred.shape[0]) :\n",
    "    if y_pred[a] < 0.5:\n",
    "        y_pred[a] = 0\n",
    "    else:\n",
    "        y_pred[a] = 1\n",
    "np.savetxt('./data/nba/y_pred.csv', y_pred, delimiter=\",\")"
   ]
  },
  {
   "cell_type": "code",
   "execution_count": 20,
   "metadata": {},
   "outputs": [
    {
     "name": "stderr",
     "output_type": "stream",
     "text": [
      "C:\\ProgramData\\Anaconda3\\lib\\site-packages\\sklearn\\cross_validation.py:44: DeprecationWarning: This module was deprecated in version 0.18 in favor of the model_selection module into which all the refactored classes and functions are moved. Also note that the interface of the new CV iterators are different from that of this module. This module will be removed in 0.20.\n",
      "  \"This module will be removed in 0.20.\", DeprecationWarning)\n",
      "C:\\ProgramData\\Anaconda3\\lib\\site-packages\\sklearn\\learning_curve.py:23: DeprecationWarning: This module was deprecated in version 0.18 in favor of the model_selection module into which all the functions are moved. This module will be removed in 0.20\n",
      "  DeprecationWarning)\n"
     ]
    },
    {
     "data": {
      "image/png": "[encoded data removed]",
      "text/plain": [
       "<matplotlib.figure.Figure at 0x1f58f610dd8>"
      ]
     },
     "metadata": {},
     "output_type": "display_data"
    }
   ],
   "source": [
    "from sklearn.learning_curve import learning_curve\n",
    "\n",
    "# mse \n",
    "def mse(model, X, y):\n",
    "    t = model.predict(X)\n",
    "    for a in range(t.shape[0]):\n",
    "        if t[a] < 0.5:\n",
    "            t[a] = 0\n",
    "        else:\n",
    "            t[a] = 1\n",
    "    \n",
    "    return ((t - y)**2).mean()\n",
    "\n",
    "# learning curve\n",
    "lr = Ridge(alpha=1000)\n",
    "\n",
    "train_sizes, train_scores, test_scores = learning_curve(\n",
    "      estimator=lr, X=X_select_train, y=y_select_train, scoring=mse)\n",
    "\n",
    "\n",
    "train_mean = np.mean(train_scores, axis=1)\n",
    "train_std = np.std(train_scores, axis=1)\n",
    "test_mean = np.mean(test_scores, axis=1)\n",
    "test_std = np.std(test_scores, axis=1)\n",
    "\n",
    "plt.plot(\n",
    "  train_sizes,\n",
    "  train_mean,\n",
    "  color='blue',\n",
    "  marker='o',\n",
    "  markersize=5,\n",
    "  label='Training error')\n",
    "plt.fill_between(\n",
    "  train_sizes,\n",
    "  train_mean + train_std,\n",
    "  train_mean - train_std,\n",
    "  alpha=0.15,\n",
    "  color='blue')\n",
    "\n",
    "plt.plot(\n",
    "  train_sizes,\n",
    "  test_mean,\n",
    "  color='green',\n",
    "  linestyle='--',\n",
    "  marker='s',\n",
    "  markersize=5,\n",
    "  label='Testing error')\n",
    "plt.fill_between(\n",
    "  train_sizes,\n",
    "  test_mean + test_std,\n",
    "  test_mean - test_std,\n",
    "  alpha=0.15,\n",
    "  color='green')\n",
    "\n",
    "\n",
    "plt.grid()\n",
    "plt.xlabel('Number of training samples')\n",
    "plt.ylabel('MSE')\n",
    "plt.legend(loc='upper right')\n",
    "plt.tight_layout()\n",
    "plt.show()"
   ]
  },
  {
   "cell_type": "code",
   "execution_count": null,
   "metadata": {
    "collapsed": true
   },
   "outputs": [],
   "source": []
  }
 ],
 "metadata": {
  "kernelspec": {
   "display_name": "Python 3",
   "language": "python",
   "name": "python3"
  },
  "language_info": {
   "codemirror_mode": {
    "name": "ipython",
    "version": 3
   },
   "file_extension": ".py",
   "mimetype": "text/x-python",
   "name": "python",
   "nbconvert_exporter": "python",
   "pygments_lexer": "ipython3",
   "version": "3.6.1"
  }
 },
 "nbformat": 4,
 "nbformat_minor": 2
}
